{
  "cells": [
    {
      "cell_type": "markdown",
      "source": [
        "<a target=\"_blank\" href=\"https://colab.research.google.com/github/ENVIRON-ENERGY716/Fall2023/blob/main/Labs/Lab12/Lab12_MCMC.ipynb\">\n",
        "  <img src=\"https://colab.research.google.com/assets/colab-badge.svg\" alt=\"Open In Colab\"/>\n",
        "</a>"
      ],
      "metadata": {
        "id": "g0jMYm6pz8d3"
      }
    },
    {
      "cell_type": "code",
      "execution_count": 16,
      "metadata": {
        "colab": {
          "base_uri": "https://localhost:8080/",
          "height": 548
        },
        "id": "PUE6CPVpx7G1",
        "outputId": "0d1dc2c0-892f-4c2a-d24b-25b878ccb83b"
      },
      "outputs": [
        {
          "output_type": "stream",
          "name": "stdout",
          "text": [
            "['O', 'N', 'O', 'R', 'O', 'N', 'N', 'N', 'R', 'R', 'R', 'O', 'N', 'N', 'N', 'R', 'O', 'O', 'R', 'O']\n",
            "R occurs  6  days, with a frequency of  0.3\n",
            "O occurs  7  days, with a frequency of  0.35\n",
            "N occurs  7  days, with a frequency of  0.35\n"
          ]
        },
        {
          "output_type": "display_data",
          "data": {
            "text/plain": [
              "<Figure size 640x480 with 1 Axes>"
            ],
            "image/png": "[encoded data removed]"
          },
          "metadata": {}
        }
      ],
      "source": [
        "#Markov Chain Monte Carlo Simulation\n",
        "#Handout # 26 - Problem 1\n",
        "import  numpy as np\n",
        "\n",
        "#Define the cumulative transition probability matrix\n",
        "CumProb = [[0.5, 0.83, 1], [.33, 0.667, 1], [0.167, 0.33, 1]]\n",
        "\n",
        "#Define an empty array to store the simulation\n",
        "Soln = []\n",
        "\n",
        "#Define the weather for t=0\n",
        "RowName = \"O\"  #We assume the first day is overcast\n",
        "\n",
        "#Determine how many days to simulate\n",
        "days=20 #lets assume we want 20 days\n",
        "\n",
        "#Conduct the simulation\n",
        "for x in range(0,days):\n",
        "    if RowName == \"R\":\n",
        "        row = 0\n",
        "    else:\n",
        "        if RowName == \"O\":\n",
        "            row = 1\n",
        "        else:\n",
        "            row = 2  # this is the row for 'normal\" weather'\n",
        "\n",
        "    t=np.random.uniform(0,1)\n",
        "\n",
        "    if t <= CumProb[row][0]:\n",
        "        RowName = \"R\"\n",
        "    else:\n",
        "        if t <= CumProb[row][1]: RowName = \"O\"\n",
        "        else:\n",
        "            RowName = \"N\"\n",
        "\n",
        "    Soln.append(RowName)\n",
        "\n",
        "print(Soln)\n",
        "\n",
        "countR = Soln.count(\"R\")\n",
        "FreqR = countR/days\n",
        "countO = Soln.count(\"O\")\n",
        "FreqO = countO/days\n",
        "countN = Soln.count(\"N\")\n",
        "FreqN = countN/days\n",
        "\n",
        "print(\"R occurs \", countR, \" days, with a frequency of \", FreqR)\n",
        "print(\"O occurs \", countO, \" days, with a frequency of \", FreqO)\n",
        "print(\"N occurs \", countN, \" days, with a frequency of \", FreqN)\n",
        "\n",
        "import matplotlib.pyplot as plt; plt.rcdefaults()\n",
        "import numpy as np\n",
        "import matplotlib.pyplot as plt\n",
        "\n",
        "objects = ('R', 'O', 'N')\n",
        "performance = [FreqR, FreqO, FreqN]\n",
        "\n",
        "index = np.arange(len(objects))\n",
        "plt.bar(index, performance)\n",
        "\n",
        "plt.xlabel('Type', fontsize=12)\n",
        "plt.ylabel('Frequency', fontsize=12)\n",
        "plt.xticks(index, objects, fontsize=12)\n",
        "plt.title('Histogram')\n",
        "plt.show()\n"
      ]
    }
  ],
  "metadata": {
    "kernelspec": {
      "display_name": "Python 3",
      "language": "python",
      "name": "python3"
    },
    "language_info": {
      "codemirror_mode": {
        "name": "ipython",
        "version": 3
      },
      "file_extension": ".py",
      "mimetype": "text/x-python",
      "name": "python",
      "nbconvert_exporter": "python",
      "pygments_lexer": "ipython3",
      "version": "3.8.8"
    },
    "colab": {
      "provenance": []
    }
  },
  "nbformat": 4,
  "nbformat_minor": 0
}